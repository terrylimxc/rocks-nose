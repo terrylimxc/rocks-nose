{
 "cells": [
  {
   "cell_type": "markdown",
   "id": "af6855db",
   "metadata": {},
   "source": [
    "### Motivation"
   ]
  },
  {
   "cell_type": "markdown",
   "id": "68feecb9",
   "metadata": {},
   "source": [
    "In the handout, it was explained that the nucleotide column of the dataset represents the combined nucleotides from the neighboring 1-flanking position. Since this column is in the form of string data, encoding should be carried out to convert these strings into categorical data."
   ]
  },
  {
   "cell_type": "markdown",
   "id": "78264450",
   "metadata": {},
   "source": [
    "However, if encoding is carried out directly on the nucleotide column, there will be a high dimension of categories as there will be numerous combinations and permutations of nucleotides and this may not be meaningful. Thus, the approach taken is to split the column into three seperate columns where each column represents a single nucleotide. Then, encoding will be carried out on these three columns. This will likely result in far fewer categories while at the same time preserving the ordering of the nucleotides."
   ]
  },
  {
   "cell_type": "markdown",
   "id": "3459f191",
   "metadata": {},
   "source": [
    "## Training the Encoder"
   ]
  },
  {
   "cell_type": "markdown",
   "id": "fbe30d61",
   "metadata": {},
   "source": [
    "### Reading In Training Data"
   ]
  },
  {
   "cell_type": "code",
   "execution_count": 1,
   "id": "f586350d",
   "metadata": {},
   "outputs": [],
   "source": [
    "import pandas as pd\n",
    "import numpy as np\n",
    "import joblib\n",
    "from sklearn import preprocessing\n",
    "from sklearn.preprocessing import OrdinalEncoder"
   ]
  },
  {
   "cell_type": "code",
   "execution_count": 2,
   "id": "2f3f17d5",
   "metadata": {},
   "outputs": [],
   "source": [
    "train = pd.read_csv(\"minmax_dataset.csv\")"
   ]
  },
  {
   "cell_type": "code",
   "execution_count": 3,
   "id": "03c910a7",
   "metadata": {},
   "outputs": [
    {
     "name": "stdout",
     "output_type": "stream",
     "text": [
      "Number of distinct nucleotide combinations: 288\n"
     ]
    }
   ],
   "source": [
    "print(\"Number of distinct nucleotide combinations: \" + str(train[\"nucleotide\"].nunique()))"
   ]
  },
  {
   "cell_type": "markdown",
   "id": "a92ab2e6",
   "metadata": {},
   "source": [
    "### Spliting The Nucleotide Column"
   ]
  },
  {
   "cell_type": "markdown",
   "id": "3b057b5c",
   "metadata": {},
   "source": [
    "As mentioned previously, the nucleotide column will be divided into its three seperate columns: <br>\n",
    "the nucleotide in its previous position -> \"nucleotide-1\" <br>\n",
    "the nucleotide in its current position -> \"nucleotide\" <br>\n",
    "the nucleotide in its next position -> \"nucleotide+1\""
   ]
  },
  {
   "cell_type": "code",
   "execution_count": 4,
   "id": "db84231e",
   "metadata": {},
   "outputs": [],
   "source": [
    "# Here, the nucleotides are split by indexing \n",
    "train['nucleotide-1'] = train['nucleotide'].str[0:5]\n",
    "train['nucleotide+1'] = train['nucleotide'].str[2:7]\n",
    "train['nucleotide'] = train['nucleotide'].str[1:6]"
   ]
  },
  {
   "cell_type": "code",
   "execution_count": 5,
   "id": "ab6b0d19",
   "metadata": {},
   "outputs": [
    {
     "name": "stdout",
     "output_type": "stream",
     "text": [
      "Distinct nucleotides in each column\n",
      "nucleotide-1: 24\n",
      "nucleotide: 18\n",
      "nucleotide+1: 18\n"
     ]
    }
   ],
   "source": [
    "print( \"Distinct nucleotides in each column\")\n",
    "print('nucleotide-1: '+ str(train['nucleotide-1'].nunique()))\n",
    "print('nucleotide: '+ str(train['nucleotide'].nunique()))\n",
    "print('nucleotide+1: '+ str(train['nucleotide'].nunique()))"
   ]
  },
  {
   "cell_type": "markdown",
   "id": "932ab56c",
   "metadata": {},
   "source": [
    "Evidently, splitting the columns has reduced the number of categories significantly"
   ]
  },
  {
   "cell_type": "markdown",
   "id": "669c4c6e",
   "metadata": {},
   "source": [
    "### Encoding The Columns And Saving The Encoder"
   ]
  },
  {
   "cell_type": "markdown",
   "id": "f03d0970",
   "metadata": {},
   "source": [
    "First an ordinal encoder needs to be initialised"
   ]
  },
  {
   "cell_type": "code",
   "execution_count": 6,
   "id": "cabcce9f",
   "metadata": {},
   "outputs": [],
   "source": [
    "oe = OrdinalEncoder(handle_unknown='use_encoded_value', unknown_value=-1)"
   ]
  },
  {
   "cell_type": "markdown",
   "id": "55420742",
   "metadata": {},
   "source": [
    "this ordinal encoder was initialised with two parameters. The \"handle_unknown\" parameter makes it such that the encoded value of unknown categories will be set to the value given for the parameter \"unknown_value\" which in this case = -1."
   ]
  },
  {
   "cell_type": "markdown",
   "id": "56c7a5fd",
   "metadata": {},
   "source": [
    "This was done in the event that there are nucleotides in the test data not present in the training data."
   ]
  },
  {
   "cell_type": "code",
   "execution_count": 7,
   "id": "c97a576b",
   "metadata": {},
   "outputs": [],
   "source": [
    "train[['nucleotide-1', 'nucleotide','nucleotide+1']] = oe.fit_transform(train[['nucleotide-1', 'nucleotide','nucleotide+1']])\n",
    "# fit_transform fits the encoder on the data, then transforms the data"
   ]
  },
  {
   "cell_type": "code",
   "execution_count": 8,
   "id": "68cd1e68",
   "metadata": {},
   "outputs": [
    {
     "data": {
      "text/plain": [
       "['nucleotide_encoder.joblib']"
      ]
     },
     "execution_count": 8,
     "metadata": {},
     "output_type": "execute_result"
    }
   ],
   "source": [
    "joblib.dump(oe, \"nucleotide_encoder.joblib\")"
   ]
  },
  {
   "cell_type": "markdown",
   "id": "b06541de",
   "metadata": {},
   "source": [
    "Joblib is a set of tools to provide lightweight pipelining in Python. Here it is being used to save the encoder as a file so that it can be loaded later to transform the test data."
   ]
  },
  {
   "cell_type": "markdown",
   "id": "7ca495b8",
   "metadata": {},
   "source": [
    "## Testing The Encoder"
   ]
  },
  {
   "cell_type": "markdown",
   "id": "91a83c81",
   "metadata": {},
   "source": [
    "### Reading In The Test Data And Encoder"
   ]
  },
  {
   "cell_type": "code",
   "execution_count": 9,
   "id": "f88994e7",
   "metadata": {},
   "outputs": [],
   "source": [
    "test = pd.read_csv(\"dataset1.csv\")"
   ]
  },
  {
   "cell_type": "code",
   "execution_count": 10,
   "id": "f283aa12",
   "metadata": {},
   "outputs": [],
   "source": [
    "oe = joblib.load('nucleotide_encoder.joblib')"
   ]
  },
  {
   "cell_type": "markdown",
   "id": "d444414f",
   "metadata": {},
   "source": [
    "### Spliting The Nucleotide Column"
   ]
  },
  {
   "cell_type": "markdown",
   "id": "15efbb38",
   "metadata": {},
   "source": [
    "Just like the traning data, the test data needs to be transformed into the three nucleotide columns"
   ]
  },
  {
   "cell_type": "code",
   "execution_count": 11,
   "id": "36282076",
   "metadata": {},
   "outputs": [],
   "source": [
    "test['nucleotide-1'] = test['nucleotide'].str[0:5]\n",
    "test['nucleotide+1'] = test['nucleotide'].str[2:7]\n",
    "test['nucleotide'] = test['nucleotide'].str[1:6]"
   ]
  },
  {
   "cell_type": "markdown",
   "id": "ec29c507",
   "metadata": {},
   "source": [
    "### Encoding The Nucleotides"
   ]
  },
  {
   "cell_type": "code",
   "execution_count": 12,
   "id": "a9c60556",
   "metadata": {},
   "outputs": [],
   "source": [
    "test[['nucleotide-1', 'nucleotide','nucleotide+1']] = oe.transform(test[['nucleotide-1', 'nucleotide','nucleotide+1']])"
   ]
  },
  {
   "cell_type": "markdown",
   "id": "a2ba64c9",
   "metadata": {},
   "source": [
    "Here, \".transform\" is used since the encoder was already fit on the training data."
   ]
  }
 ],
 "metadata": {
  "kernelspec": {
   "display_name": "Python 3 (ipykernel)",
   "language": "python",
   "name": "python3"
  },
  "language_info": {
   "codemirror_mode": {
    "name": "ipython",
    "version": 3
   },
   "file_extension": ".py",
   "mimetype": "text/x-python",
   "name": "python",
   "nbconvert_exporter": "python",
   "pygments_lexer": "ipython3",
   "version": "3.9.7"
  }
 },
 "nbformat": 4,
 "nbformat_minor": 5
}
