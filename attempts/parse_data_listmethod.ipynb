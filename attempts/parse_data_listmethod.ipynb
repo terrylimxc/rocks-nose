{
 "cells": [
  {
   "cell_type": "code",
   "execution_count": 1,
   "id": "a33b2c27",
   "metadata": {},
   "outputs": [],
   "source": [
    "import pandas as pd\n",
    "import json"
   ]
  },
  {
   "cell_type": "markdown",
   "id": "653aba3c",
   "metadata": {},
   "source": [
    "## Reading the json file"
   ]
  },
  {
   "cell_type": "code",
   "execution_count": 2,
   "id": "cadf73f2",
   "metadata": {},
   "outputs": [],
   "source": [
    "genes = []\n",
    "for line in open('Intermediate submission instructions/dataset2.json', 'r'):\n",
    "    genes.append(json.loads(line))"
   ]
  },
  {
   "cell_type": "markdown",
   "id": "78af1ade",
   "metadata": {},
   "source": [
    "## Converting into a list format"
   ]
  },
  {
   "cell_type": "code",
   "execution_count": null,
   "id": "6bbce9f8",
   "metadata": {},
   "outputs": [],
   "source": [
    "lst = []\n",
    "\n",
    "for j in range(0, len(genes)):\n",
    "    transcript_id = list(genes[j].keys())[0]\n",
    "    position = list(genes[j].get(transcript_id).keys())[0]\n",
    "    nucleotide = list(genes[j].get(transcript_id).get(position).keys())[0]\n",
    "    row = [transcript_id, position, nucleotide]\n",
    "\n",
    "    for i in genes[j].get(transcript_id).get(position).get(nucleotide):\n",
    "        final_row = row + i\n",
    "        lst.append(final_row)"
   ]
  },
  {
   "cell_type": "markdown",
   "id": "81a465dc",
   "metadata": {},
   "source": [
    "## Convert to dataframe vefore saving as csv"
   ]
  },
  {
   "cell_type": "code",
   "execution_count": 4,
   "id": "5287e527",
   "metadata": {},
   "outputs": [],
   "source": [
    "gene = pd.DataFrame(lst, columns = [\"transcript_id\", \"position\", \"nucleotide\", \"dwell_1\", \"std_1\", \"mean_1\", \"dwell_2\", \"std_2\", \"mean_2\", \"dwell_3\", \"std_3\", \"mean_3\"])"
   ]
  },
  {
   "cell_type": "code",
   "execution_count": 5,
   "id": "333116d2",
   "metadata": {},
   "outputs": [],
   "source": [
    "gene.to_csv(\"./Intermediate submission instructions/dataset2.csv\", index = False)"
   ]
  }
 ],
 "metadata": {
  "kernelspec": {
   "display_name": "Python 3 (ipykernel)",
   "language": "python",
   "name": "python3"
  },
  "language_info": {
   "codemirror_mode": {
    "name": "ipython",
    "version": 3
   },
   "file_extension": ".py",
   "mimetype": "text/x-python",
   "name": "python",
   "nbconvert_exporter": "python",
   "pygments_lexer": "ipython3",
   "version": "3.9.7"
  }
 },
 "nbformat": 4,
 "nbformat_minor": 5
}
