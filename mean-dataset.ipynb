{
 "cells": [
  {
   "cell_type": "code",
   "execution_count": 18,
   "id": "8fd31322",
   "metadata": {},
   "outputs": [],
   "source": [
    "import pandas as pd"
   ]
  },
  {
   "cell_type": "code",
   "execution_count": 19,
   "id": "33296d32",
   "metadata": {},
   "outputs": [],
   "source": [
    "labels = pd.read_csv('./data.info')\n",
    "parsed = pd.read_csv('./parsed.csv')\n",
    "\n",
    "labels = labels.rename(columns = {\"transcript_position\": \"position\"})\n",
    "full_data = pd.merge(parsed,labels,on=['transcript_id', 'position'] ,how='left')"
   ]
  },
  {
   "cell_type": "code",
   "execution_count": 20,
   "id": "f5b236f3",
   "metadata": {},
   "outputs": [],
   "source": [
    "mean_ds = full_data.groupby([\"gene_id\", \"transcript_id\", \"position\"]).mean().reset_index()"
   ]
  },
  {
   "cell_type": "code",
   "execution_count": 21,
   "id": "b913a1f4",
   "metadata": {
    "scrolled": true
   },
   "outputs": [
    {
     "data": {
      "text/html": [
       "<div>\n",
       "<style scoped>\n",
       "    .dataframe tbody tr th:only-of-type {\n",
       "        vertical-align: middle;\n",
       "    }\n",
       "\n",
       "    .dataframe tbody tr th {\n",
       "        vertical-align: top;\n",
       "    }\n",
       "\n",
       "    .dataframe thead th {\n",
       "        text-align: right;\n",
       "    }\n",
       "</style>\n",
       "<table border=\"1\" class=\"dataframe\">\n",
       "  <thead>\n",
       "    <tr style=\"text-align: right;\">\n",
       "      <th></th>\n",
       "      <th>gene_id</th>\n",
       "      <th>transcript_id</th>\n",
       "      <th>position</th>\n",
       "      <th>nucleotide</th>\n",
       "    </tr>\n",
       "  </thead>\n",
       "  <tbody>\n",
       "    <tr>\n",
       "      <th>0</th>\n",
       "      <td>ENSG00000000003</td>\n",
       "      <td>ENST00000373020</td>\n",
       "      <td>512</td>\n",
       "      <td>ATAACTC</td>\n",
       "    </tr>\n",
       "    <tr>\n",
       "      <th>1</th>\n",
       "      <td>ENSG00000000003</td>\n",
       "      <td>ENST00000373020</td>\n",
       "      <td>689</td>\n",
       "      <td>TAAACAA</td>\n",
       "    </tr>\n",
       "    <tr>\n",
       "      <th>2</th>\n",
       "      <td>ENSG00000000003</td>\n",
       "      <td>ENST00000373020</td>\n",
       "      <td>823</td>\n",
       "      <td>ATAACAA</td>\n",
       "    </tr>\n",
       "    <tr>\n",
       "      <th>3</th>\n",
       "      <td>ENSG00000000003</td>\n",
       "      <td>ENST00000373020</td>\n",
       "      <td>830</td>\n",
       "      <td>ATAACCA</td>\n",
       "    </tr>\n",
       "    <tr>\n",
       "      <th>4</th>\n",
       "      <td>ENSG00000000003</td>\n",
       "      <td>ENST00000373020</td>\n",
       "      <td>849</td>\n",
       "      <td>GTAACCC</td>\n",
       "    </tr>\n",
       "    <tr>\n",
       "      <th>...</th>\n",
       "      <td>...</td>\n",
       "      <td>...</td>\n",
       "      <td>...</td>\n",
       "      <td>...</td>\n",
       "    </tr>\n",
       "    <tr>\n",
       "      <th>121833</th>\n",
       "      <td>ENSG00000284707</td>\n",
       "      <td>ENST00000641784</td>\n",
       "      <td>3122</td>\n",
       "      <td>CTGACCC</td>\n",
       "    </tr>\n",
       "    <tr>\n",
       "      <th>121834</th>\n",
       "      <td>ENSG00000284707</td>\n",
       "      <td>ENST00000641784</td>\n",
       "      <td>3142</td>\n",
       "      <td>CTGACCC</td>\n",
       "    </tr>\n",
       "    <tr>\n",
       "      <th>121835</th>\n",
       "      <td>ENSG00000284707</td>\n",
       "      <td>ENST00000641784</td>\n",
       "      <td>3224</td>\n",
       "      <td>GGGACTG</td>\n",
       "    </tr>\n",
       "    <tr>\n",
       "      <th>121836</th>\n",
       "      <td>ENSG00000284707</td>\n",
       "      <td>ENST00000641784</td>\n",
       "      <td>3243</td>\n",
       "      <td>GGAACAA</td>\n",
       "    </tr>\n",
       "    <tr>\n",
       "      <th>121837</th>\n",
       "      <td>ENSG00000284707</td>\n",
       "      <td>ENST00000641784</td>\n",
       "      <td>3266</td>\n",
       "      <td>CTAACTT</td>\n",
       "    </tr>\n",
       "  </tbody>\n",
       "</table>\n",
       "<p>121838 rows × 4 columns</p>\n",
       "</div>"
      ],
      "text/plain": [
       "                gene_id    transcript_id  position nucleotide\n",
       "0       ENSG00000000003  ENST00000373020       512    ATAACTC\n",
       "1       ENSG00000000003  ENST00000373020       689    TAAACAA\n",
       "2       ENSG00000000003  ENST00000373020       823    ATAACAA\n",
       "3       ENSG00000000003  ENST00000373020       830    ATAACCA\n",
       "4       ENSG00000000003  ENST00000373020       849    GTAACCC\n",
       "...                 ...              ...       ...        ...\n",
       "121833  ENSG00000284707  ENST00000641784      3122    CTGACCC\n",
       "121834  ENSG00000284707  ENST00000641784      3142    CTGACCC\n",
       "121835  ENSG00000284707  ENST00000641784      3224    GGGACTG\n",
       "121836  ENSG00000284707  ENST00000641784      3243    GGAACAA\n",
       "121837  ENSG00000284707  ENST00000641784      3266    CTAACTT\n",
       "\n",
       "[121838 rows x 4 columns]"
      ]
     },
     "execution_count": 21,
     "metadata": {},
     "output_type": "execute_result"
    }
   ],
   "source": [
    "nuc = full_data[[\"gene_id\", \"transcript_id\", \"position\", \"nucleotide\"]].groupby([\"gene_id\", \"transcript_id\", \"position\"])[\"nucleotide\"].unique().reset_index()\n",
    "nuc.nucleotide = nuc.nucleotide.apply(lambda x: x[0])\n",
    "nuc"
   ]
  },
  {
   "cell_type": "code",
   "execution_count": 22,
   "id": "2d16dd88",
   "metadata": {},
   "outputs": [],
   "source": [
    "mean_ds = mean_ds.merge(nuc)"
   ]
  }
 ],
 "metadata": {
  "kernelspec": {
   "display_name": "Python 3 (ipykernel)",
   "language": "python",
   "name": "python3"
  },
  "language_info": {
   "codemirror_mode": {
    "name": "ipython",
    "version": 3
   },
   "file_extension": ".py",
   "mimetype": "text/x-python",
   "name": "python",
   "nbconvert_exporter": "python",
   "pygments_lexer": "ipython3",
   "version": "3.9.12"
  }
 },
 "nbformat": 4,
 "nbformat_minor": 5
}
