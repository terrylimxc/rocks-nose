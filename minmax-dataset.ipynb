{
 "cells": [
  {
   "cell_type": "code",
   "execution_count": 2,
   "metadata": {},
   "outputs": [],
   "source": [
    "import pandas as pd"
   ]
  },
  {
   "cell_type": "markdown",
   "metadata": {},
   "source": [
    "Dataset"
   ]
  },
  {
   "cell_type": "code",
   "execution_count": 3,
   "metadata": {},
   "outputs": [],
   "source": [
    "df = pd.read_csv(r'C:\\Users\\wenyo\\Desktop\\parsed_data.csv')\n",
    "info = pd.read_csv(r'C:\\Users\\wenyo\\Desktop\\data.info')\n",
    "info = info.rename(columns={\"transcript_position\": \"position\"})\n",
    "\n",
    "full_data = pd.merge(df,info,on=['transcript_id', 'position'] ,how='left')\n",
    "\n",
    "# full_data.to_csv('new_parsed.csv', header= True)\n",
    "# final_df = pd.read_csv(r\"C:\\Users\\wenyo\\Desktop\\new_parsed.csv\")"
   ]
  },
  {
   "cell_type": "code",
   "execution_count": 49,
   "metadata": {},
   "outputs": [
    {
     "data": {
      "text/plain": [
       "5333"
      ]
     },
     "execution_count": 49,
     "metadata": {},
     "output_type": "execute_result"
    }
   ],
   "source": [
    "min_dataset = full_data.groupby(['transcript_id', 'position']).min().reset_index()\n",
    "max_dataset = full_data.groupby(['transcript_id', 'position']).max().reset_index()"
   ]
  },
  {
   "cell_type": "markdown",
   "metadata": {},
   "source": [
    "max_dataset"
   ]
  },
  {
   "cell_type": "code",
   "execution_count": 9,
   "metadata": {},
   "outputs": [],
   "source": [
    "max_dataset = max_dataset.rename(columns = {\"dwell_1\": \"dwell_1_max\",\n",
    "                    \"std_1\": \"std_1_max\",\n",
    "                    \"mean_1\": \"mean_1_max\",\n",
    "                    \"dwell_2\": \"dwell_2_max\",\n",
    "                    \"std_2\": \"std_2_max\",\n",
    "                    \"mean_2\": \"mean_2_max\",\n",
    "                    \"dwell_3\": \"dwell_3_max\",\n",
    "                    \"std_3\": \"std_3_max\",\n",
    "                    \"mean_3\": \"mean_3_max\"})"
   ]
  },
  {
   "cell_type": "code",
   "execution_count": 32,
   "metadata": {},
   "outputs": [],
   "source": [
    "minmax_data = pd.merge(min_dataset,max_dataset,on=['transcript_id', 'position', \"nucleotide\", 'gene_id', 'label'] ,how='left')"
   ]
  },
  {
   "cell_type": "code",
   "execution_count": 34,
   "metadata": {},
   "outputs": [],
   "source": [
    "column_to_move = minmax_data.pop(\"label\")\n",
    "\n",
    "# insert column with insert(location, column_name, column_value)\n",
    "\n",
    "minmax_data.insert(22, \"label\", column_to_move)"
   ]
  },
  {
   "cell_type": "code",
   "execution_count": 39,
   "metadata": {},
   "outputs": [],
   "source": [
    "minmax_data.to_csv('minmax_dataset.csv', header= True, index=False)"
   ]
  },
  {
   "cell_type": "markdown",
   "metadata": {},
   "source": [
    "Adding read count as a new variable"
   ]
  },
  {
   "cell_type": "code",
   "execution_count": null,
   "metadata": {},
   "outputs": [],
   "source": [
    "sum_df = full_data.groupby(['transcript_id', 'position'])['position'].count().reset_index(name= 'count')"
   ]
  },
  {
   "cell_type": "code",
   "execution_count": null,
   "metadata": {},
   "outputs": [],
   "source": [
    "minmax = pd.read_csv(r'..\\data\\minmax_dataset.csv')\n",
    "minmax_with_count = pd.merge(minmax,sum_df,on=['transcript_id', 'position'] ,how='left')\n",
    "minmax_with_count.to_csv('../data/minmax_with_count.csv', header= True, index=False)"
   ]
  }
 ],
 "metadata": {
  "kernelspec": {
   "display_name": "Python 3.7.11 ('base')",
   "language": "python",
   "name": "python3"
  },
  "language_info": {
   "codemirror_mode": {
    "name": "ipython",
    "version": 3
   },
   "file_extension": ".py",
   "mimetype": "text/x-python",
   "name": "python",
   "nbconvert_exporter": "python",
   "pygments_lexer": "ipython3",
   "version": "3.7.11"
  },
  "orig_nbformat": 4,
  "vscode": {
   "interpreter": {
    "hash": "7b6480f4a8da20671b19fae1682e59107eb3ecbe542102c2547e36724f467c45"
   }
  }
 },
 "nbformat": 4,
 "nbformat_minor": 2
}
