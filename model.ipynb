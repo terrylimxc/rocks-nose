{
 "cells": [
  {
   "cell_type": "code",
   "execution_count": 1,
   "metadata": {},
   "outputs": [],
   "source": [
    "import pandas as pd\n",
    "from sklearn import preprocessing\n",
    "\n",
    "from imblearn.combine import SMOTETomek\n",
    "from imblearn.under_sampling import TomekLinks\n",
    "from imblearn.ensemble import BalancedRandomForestClassifier\n",
    "\n",
    "from xgboost import XGBClassifier\n",
    "\n",
    "from sklearn.model_selection import GroupShuffleSplit\n",
    "from sklearn.metrics import classification_report, average_precision_score, precision_recall_curve, auc, roc_auc_score, confusion_matrix"
   ]
  },
  {
   "cell_type": "code",
   "execution_count": 2,
   "metadata": {},
   "outputs": [],
   "source": [
    "def smote_tomek_resample(df):\n",
    "    smt=SMOTETomek(tomek=TomekLinks(sampling_strategy='majority'), random_state=4262)\n",
    "    X, y = df.drop(columns = [\"label\"]), df['label']\n",
    "    X_res, y_res = smt.fit_resample(X,y)\n",
    "    return X_res, y_res"
   ]
  },
  {
   "cell_type": "code",
   "execution_count": 3,
   "metadata": {},
   "outputs": [],
   "source": [
    "def prepare_train_test_data(data, train_idx, test_idx, resample_method=False):\n",
    "    \"\"\"\n",
    "    Given indices prepared from test splits, prepare x and y values for train/test from initial read data\n",
    "    - removal of columns is performed within this function\n",
    "    \"\"\"\n",
    "    # Check overlap\n",
    "    train_gid, test_gid = set(data.iloc[train_idx, :].gene_id), set(data.iloc[test_idx, :].gene_id)\n",
    "    print(train_gid.intersection(test_gid))\n",
    "\n",
    "    # Drop identifiers\n",
    "    data = data.drop(columns=[\"gene_id\",\"transcript_id\", \"position\"])\n",
    "\n",
    "    # Split train and test\n",
    "    train, test = data.iloc[train_idx, :], data.iloc[test_idx, :]\n",
    "\n",
    "    if not resample_method:\n",
    "        # Return X_train, y_train, X_test, y_test\n",
    "        X_train, y_train = train.drop(columns=[\"label\"]), train.label\n",
    "        X_test, y_test = test.drop(columns=[\"label\"]), test.label\n",
    "    else:\n",
    "        # SMOTETomek\n",
    "        X_train, y_train = smote_tomek_resample(data)\n",
    "        X_test, y_test = test.drop(columns=[\"label\"]), test.label\n",
    "\n",
    "    return X_train, y_train, X_test, y_test"
   ]
  },
  {
   "cell_type": "code",
   "execution_count": 4,
   "metadata": {},
   "outputs": [],
   "source": [
    "df = pd.read_csv(\"nuc_encoded_mean_dataset.csv\")"
   ]
  },
  {
   "cell_type": "markdown",
   "metadata": {},
   "source": [
    "Using SmoteTomek"
   ]
  },
  {
   "cell_type": "code",
   "execution_count": 5,
   "metadata": {},
   "outputs": [
    {
     "name": "stdout",
     "output_type": "stream",
     "text": [
      "set()\n",
      "set()\n",
      "set()\n",
      "set()\n",
      "set()\n",
      "ROC AUC: 0.6431855754658441\n",
      "PR AUC: 0.4551812260266416\n",
      "PR AUC AVERAGE PRECISION: 0.4038919025771399\n"
     ]
    }
   ],
   "source": [
    "splitter = GroupShuffleSplit(n_splits=5, test_size=0.20, random_state = 4262)\n",
    "temp = splitter.split(df, groups=df['gene_id'])\n",
    "\n",
    "roc = []\n",
    "pr = []\n",
    "ap = []\n",
    "counter = 0\n",
    "for train_index, test_index in temp:\n",
    "    X_train, y_train, X_test, y_test = prepare_train_test_data(df, train_index, test_index)\n",
    "    # print(y_train.value_counts())\n",
    "    # print(y_test.value_counts())\n",
    "\n",
    "    clf = XGBClassifier(random_state=4262)\n",
    "    clf.fit(X_train, y_train)\n",
    "\n",
    "    test_pred = clf.predict(X_test)\n",
    "    tn, fp, fn, tp = confusion_matrix(y_test, test_pred).ravel()\n",
    "\n",
    "    # print(f\"True Negative: {tn}/{tn+fp}\")\n",
    "    # print(f\"False Positive: {fp}/{tn+fp}\")\n",
    "    # print(f\"False Negative: {fn}/{fn+tp}\")\n",
    "    # print(f\"True Positive: {tp}/{fn+tp}\")\n",
    "    roc_auc = roc_auc_score(y_test, test_pred, labels = [0, 1])\n",
    "    precision_, recall_, _ = precision_recall_curve(y_test, test_pred)\n",
    "    pr_auc = auc(recall_, precision_)\n",
    "    aps = average_precision_score(y_test, clf.predict_proba(X_test)[:,1])\n",
    "\n",
    "    # print(f\"ROC AUC: {roc_auc}\")\n",
    "    # print(f\"PR AUC: {pr_auc}\")\n",
    "    # print(f\"PR AUC #2: {aps}\")\n",
    "\n",
    "    roc.append(roc_auc)\n",
    "    pr.append(pr_auc)\n",
    "    ap.append(aps)\n",
    "\n",
    "\n",
    "print(f\"ROC AUC: {sum(roc)/len(roc)}\")\n",
    "print(f\"PR AUC: {sum(pr)/len(pr)}\")\n",
    "print(f\"PR AUC AVERAGE PRECISION: {sum(ap)/len(ap)}\")"
   ]
  },
  {
   "cell_type": "markdown",
   "metadata": {},
   "source": [
    "Using BalancedRandomForestClassifier"
   ]
  },
  {
   "cell_type": "code",
   "execution_count": null,
   "metadata": {},
   "outputs": [],
   "source": [
    "splitter = GroupShuffleSplit(n_splits=5, test_size=0.20, random_state = 4262)\n",
    "temp = splitter.split(df, groups=df['gene_id'])\n",
    "\n",
    "roc = []\n",
    "pr = []\n",
    "ap = []\n",
    "counter = 0\n",
    "for train_index, test_index in temp:\n",
    "    X_train, y_train, X_test, y_test = prepare_train_test_data(df, train_index, test_index, True)\n",
    "    # print(y_train.value_counts())\n",
    "    # print(y_test.value_counts())\n",
    "\n",
    "    clf = BalancedRandomForestClassifier(random_state=4262)\n",
    "    clf.fit(X_train, y_train)\n",
    "\n",
    "    test_pred = clf.predict(X_test)\n",
    "    tn, fp, fn, tp = confusion_matrix(y_test, test_pred).ravel()\n",
    "\n",
    "    # print(f\"True Negative: {tn}/{tn+fp}\")\n",
    "    # print(f\"False Positive: {fp}/{tn+fp}\")\n",
    "    # print(f\"False Negative: {fn}/{fn+tp}\")\n",
    "    # print(f\"True Positive: {tp}/{fn+tp}\")\n",
    "    roc_auc = roc_auc_score(y_test, test_pred, labels = [0, 1])\n",
    "    precision_, recall_, _ = precision_recall_curve(y_test, test_pred)\n",
    "    pr_auc = auc(recall_, precision_)\n",
    "    aps = average_precision_score(y_test, clf.predict_proba(X_test)[:,1])\n",
    "\n",
    "    # print(f\"ROC AUC: {roc_auc}\")\n",
    "    # print(f\"PR AUC: {pr_auc}\")\n",
    "    # print(f\"PR AUC #2: {aps}\")\n",
    "\n",
    "    roc.append(roc_auc)\n",
    "    pr.append(pr_auc)\n",
    "    ap.append(aps)\n",
    "\n",
    "\n",
    "print(f\"ROC AUC: {sum(roc)/len(roc)}\")\n",
    "print(f\"PR AUC: {sum(pr)/len(pr)}\")\n",
    "print(f\"PR AUC AVERAGE PRECISION: {sum(ap)/len(ap)}\")"
   ]
  }
 ],
 "metadata": {
  "kernelspec": {
   "display_name": "Python 3.10.4 64-bit",
   "language": "python",
   "name": "python3"
  },
  "language_info": {
   "codemirror_mode": {
    "name": "ipython",
    "version": 3
   },
   "file_extension": ".py",
   "mimetype": "text/x-python",
   "name": "python",
   "nbconvert_exporter": "python",
   "pygments_lexer": "ipython3",
   "version": "3.10.4"
  },
  "orig_nbformat": 4,
  "vscode": {
   "interpreter": {
    "hash": "f938c5c90056803d79bae700c3d73405346da5b97e3011922ac502e22cfadeb1"
   }
  }
 },
 "nbformat": 4,
 "nbformat_minor": 2
}
