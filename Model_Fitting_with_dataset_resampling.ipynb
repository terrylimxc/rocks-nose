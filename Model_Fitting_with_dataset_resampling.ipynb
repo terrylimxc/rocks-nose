{
 "cells": [
  {
   "cell_type": "code",
   "execution_count": 2,
   "id": "08bb96b3",
   "metadata": {
    "executionInfo": {
     "elapsed": 5,
     "status": "ok",
     "timestamp": 1665759541461,
     "user": {
      "displayName": "Torrin Panicker",
      "userId": "14746471492993958531"
     },
     "user_tz": -480
    },
    "id": "08bb96b3"
   },
   "outputs": [],
   "source": [
    "import pandas as pd"
   ]
  },
  {
   "cell_type": "code",
   "execution_count": 12,
   "id": "7fb484a0",
   "metadata": {
    "colab": {
     "base_uri": "https://localhost:8080/",
     "height": 312
    },
    "executionInfo": {
     "elapsed": 507,
     "status": "error",
     "timestamp": 1665759693929,
     "user": {
      "displayName": "Torrin Panicker",
      "userId": "14746471492993958531"
     },
     "user_tz": -480
    },
    "id": "7fb484a0",
    "outputId": "b9f95a07-a6df-43f9-ea40-58807b8284ad"
   },
   "outputs": [],
   "source": [
    "nuc_enc_mean_data = pd.read_csv(\"nuc_encoded_mean_dataset.csv\")"
   ]
  },
  {
   "cell_type": "code",
   "execution_count": 91,
   "id": "77d52219",
   "metadata": {
    "executionInfo": {
     "elapsed": 28,
     "status": "aborted",
     "timestamp": 1665759544399,
     "user": {
      "displayName": "Torrin Panicker",
      "userId": "14746471492993958531"
     },
     "user_tz": -480
    },
    "id": "77d52219"
   },
   "outputs": [],
   "source": [
    "nuc_enc_median_data = pd.read_csv(\"nuc_encoded_median_dataset.csv\")"
   ]
  },
  {
   "cell_type": "code",
   "execution_count": 13,
   "id": "39d2b9c5",
   "metadata": {
    "executionInfo": {
     "elapsed": 28,
     "status": "aborted",
     "timestamp": 1665759544400,
     "user": {
      "displayName": "Torrin Panicker",
      "userId": "14746471492993958531"
     },
     "user_tz": -480
    },
    "id": "39d2b9c5"
   },
   "outputs": [
    {
     "data": {
      "text/html": [
       "<div>\n",
       "<style scoped>\n",
       "    .dataframe tbody tr th:only-of-type {\n",
       "        vertical-align: middle;\n",
       "    }\n",
       "\n",
       "    .dataframe tbody tr th {\n",
       "        vertical-align: top;\n",
       "    }\n",
       "\n",
       "    .dataframe thead th {\n",
       "        text-align: right;\n",
       "    }\n",
       "</style>\n",
       "<table border=\"1\" class=\"dataframe\">\n",
       "  <thead>\n",
       "    <tr style=\"text-align: right;\">\n",
       "      <th></th>\n",
       "      <th>gene_id</th>\n",
       "      <th>nucleotide-1</th>\n",
       "      <th>nucleotide</th>\n",
       "      <th>nucleotide+1</th>\n",
       "      <th>transcript_id</th>\n",
       "      <th>position</th>\n",
       "      <th>dwell_1</th>\n",
       "      <th>std_1</th>\n",
       "      <th>mean_1</th>\n",
       "      <th>dwell_2</th>\n",
       "      <th>std_2</th>\n",
       "      <th>mean_2</th>\n",
       "      <th>dwell_3</th>\n",
       "      <th>std_3</th>\n",
       "      <th>mean_3</th>\n",
       "      <th>label</th>\n",
       "    </tr>\n",
       "  </thead>\n",
       "  <tbody>\n",
       "    <tr>\n",
       "      <th>0</th>\n",
       "      <td>ENSG00000000003</td>\n",
       "      <td>4</td>\n",
       "      <td>14</td>\n",
       "      <td>9</td>\n",
       "      <td>ENST00000373020</td>\n",
       "      <td>512</td>\n",
       "      <td>0.007247</td>\n",
       "      <td>2.359500</td>\n",
       "      <td>86.795000</td>\n",
       "      <td>0.011177</td>\n",
       "      <td>2.496500</td>\n",
       "      <td>97.965000</td>\n",
       "      <td>0.008500</td>\n",
       "      <td>1.588750</td>\n",
       "      <td>92.330000</td>\n",
       "      <td>0.0</td>\n",
       "    </tr>\n",
       "    <tr>\n",
       "      <th>1</th>\n",
       "      <td>ENSG00000000003</td>\n",
       "      <td>18</td>\n",
       "      <td>0</td>\n",
       "      <td>0</td>\n",
       "      <td>ENST00000373020</td>\n",
       "      <td>689</td>\n",
       "      <td>0.009868</td>\n",
       "      <td>1.972857</td>\n",
       "      <td>102.495238</td>\n",
       "      <td>0.007332</td>\n",
       "      <td>2.551905</td>\n",
       "      <td>97.928571</td>\n",
       "      <td>0.006917</td>\n",
       "      <td>2.198571</td>\n",
       "      <td>89.385714</td>\n",
       "      <td>0.0</td>\n",
       "    </tr>\n",
       "    <tr>\n",
       "      <th>2</th>\n",
       "      <td>ENSG00000000003</td>\n",
       "      <td>4</td>\n",
       "      <td>12</td>\n",
       "      <td>0</td>\n",
       "      <td>ENST00000373020</td>\n",
       "      <td>823</td>\n",
       "      <td>0.007456</td>\n",
       "      <td>2.078095</td>\n",
       "      <td>86.904762</td>\n",
       "      <td>0.006193</td>\n",
       "      <td>1.912857</td>\n",
       "      <td>93.680952</td>\n",
       "      <td>0.007296</td>\n",
       "      <td>2.306667</td>\n",
       "      <td>88.176190</td>\n",
       "      <td>0.0</td>\n",
       "    </tr>\n",
       "    <tr>\n",
       "      <th>3</th>\n",
       "      <td>ENSG00000000003</td>\n",
       "      <td>4</td>\n",
       "      <td>13</td>\n",
       "      <td>4</td>\n",
       "      <td>ENST00000373020</td>\n",
       "      <td>830</td>\n",
       "      <td>0.007765</td>\n",
       "      <td>2.834000</td>\n",
       "      <td>86.765000</td>\n",
       "      <td>0.007522</td>\n",
       "      <td>3.192500</td>\n",
       "      <td>93.075000</td>\n",
       "      <td>0.005923</td>\n",
       "      <td>2.020500</td>\n",
       "      <td>80.110000</td>\n",
       "      <td>0.0</td>\n",
       "    </tr>\n",
       "    <tr>\n",
       "      <th>4</th>\n",
       "      <td>ENSG00000000003</td>\n",
       "      <td>16</td>\n",
       "      <td>13</td>\n",
       "      <td>5</td>\n",
       "      <td>ENST00000373020</td>\n",
       "      <td>849</td>\n",
       "      <td>0.006785</td>\n",
       "      <td>2.926667</td>\n",
       "      <td>86.923810</td>\n",
       "      <td>0.007727</td>\n",
       "      <td>2.782381</td>\n",
       "      <td>92.504762</td>\n",
       "      <td>0.008596</td>\n",
       "      <td>1.924286</td>\n",
       "      <td>84.657143</td>\n",
       "      <td>0.0</td>\n",
       "    </tr>\n",
       "    <tr>\n",
       "      <th>...</th>\n",
       "      <td>...</td>\n",
       "      <td>...</td>\n",
       "      <td>...</td>\n",
       "      <td>...</td>\n",
       "      <td>...</td>\n",
       "      <td>...</td>\n",
       "      <td>...</td>\n",
       "      <td>...</td>\n",
       "      <td>...</td>\n",
       "      <td>...</td>\n",
       "      <td>...</td>\n",
       "      <td>...</td>\n",
       "      <td>...</td>\n",
       "      <td>...</td>\n",
       "      <td>...</td>\n",
       "      <td>...</td>\n",
       "    </tr>\n",
       "    <tr>\n",
       "      <th>121833</th>\n",
       "      <td>ENSG00000284707</td>\n",
       "      <td>11</td>\n",
       "      <td>16</td>\n",
       "      <td>17</td>\n",
       "      <td>ENST00000641784</td>\n",
       "      <td>3122</td>\n",
       "      <td>0.007506</td>\n",
       "      <td>3.685833</td>\n",
       "      <td>109.766667</td>\n",
       "      <td>0.007801</td>\n",
       "      <td>6.736167</td>\n",
       "      <td>118.050000</td>\n",
       "      <td>0.006870</td>\n",
       "      <td>2.844667</td>\n",
       "      <td>80.915000</td>\n",
       "      <td>1.0</td>\n",
       "    </tr>\n",
       "    <tr>\n",
       "      <th>121834</th>\n",
       "      <td>ENSG00000284707</td>\n",
       "      <td>11</td>\n",
       "      <td>16</td>\n",
       "      <td>17</td>\n",
       "      <td>ENST00000641784</td>\n",
       "      <td>3142</td>\n",
       "      <td>0.008712</td>\n",
       "      <td>3.650164</td>\n",
       "      <td>105.637705</td>\n",
       "      <td>0.007614</td>\n",
       "      <td>8.877377</td>\n",
       "      <td>119.721311</td>\n",
       "      <td>0.005795</td>\n",
       "      <td>3.218689</td>\n",
       "      <td>77.859016</td>\n",
       "      <td>0.0</td>\n",
       "    </tr>\n",
       "    <tr>\n",
       "      <th>121835</th>\n",
       "      <td>ENSG00000284707</td>\n",
       "      <td>15</td>\n",
       "      <td>11</td>\n",
       "      <td>22</td>\n",
       "      <td>ENST00000641784</td>\n",
       "      <td>3224</td>\n",
       "      <td>0.008452</td>\n",
       "      <td>3.807667</td>\n",
       "      <td>118.583333</td>\n",
       "      <td>0.008247</td>\n",
       "      <td>4.507167</td>\n",
       "      <td>124.466667</td>\n",
       "      <td>0.006606</td>\n",
       "      <td>3.443833</td>\n",
       "      <td>91.126667</td>\n",
       "      <td>1.0</td>\n",
       "    </tr>\n",
       "    <tr>\n",
       "      <th>121836</th>\n",
       "      <td>ENSG00000284707</td>\n",
       "      <td>14</td>\n",
       "      <td>6</td>\n",
       "      <td>0</td>\n",
       "      <td>ENST00000641784</td>\n",
       "      <td>3243</td>\n",
       "      <td>0.008700</td>\n",
       "      <td>7.686719</td>\n",
       "      <td>122.812500</td>\n",
       "      <td>0.007648</td>\n",
       "      <td>2.998125</td>\n",
       "      <td>97.346875</td>\n",
       "      <td>0.005190</td>\n",
       "      <td>2.203750</td>\n",
       "      <td>88.439063</td>\n",
       "      <td>0.0</td>\n",
       "    </tr>\n",
       "    <tr>\n",
       "      <th>121837</th>\n",
       "      <td>ENSG00000284707</td>\n",
       "      <td>10</td>\n",
       "      <td>14</td>\n",
       "      <td>11</td>\n",
       "      <td>ENST00000641784</td>\n",
       "      <td>3266</td>\n",
       "      <td>0.005972</td>\n",
       "      <td>1.874516</td>\n",
       "      <td>94.209677</td>\n",
       "      <td>0.006831</td>\n",
       "      <td>2.194032</td>\n",
       "      <td>99.730645</td>\n",
       "      <td>0.006503</td>\n",
       "      <td>1.977742</td>\n",
       "      <td>92.453226</td>\n",
       "      <td>0.0</td>\n",
       "    </tr>\n",
       "  </tbody>\n",
       "</table>\n",
       "<p>121838 rows × 16 columns</p>\n",
       "</div>"
      ],
      "text/plain": [
       "                gene_id  nucleotide-1  nucleotide  nucleotide+1  \\\n",
       "0       ENSG00000000003             4          14             9   \n",
       "1       ENSG00000000003            18           0             0   \n",
       "2       ENSG00000000003             4          12             0   \n",
       "3       ENSG00000000003             4          13             4   \n",
       "4       ENSG00000000003            16          13             5   \n",
       "...                 ...           ...         ...           ...   \n",
       "121833  ENSG00000284707            11          16            17   \n",
       "121834  ENSG00000284707            11          16            17   \n",
       "121835  ENSG00000284707            15          11            22   \n",
       "121836  ENSG00000284707            14           6             0   \n",
       "121837  ENSG00000284707            10          14            11   \n",
       "\n",
       "          transcript_id  position   dwell_1     std_1      mean_1   dwell_2  \\\n",
       "0       ENST00000373020       512  0.007247  2.359500   86.795000  0.011177   \n",
       "1       ENST00000373020       689  0.009868  1.972857  102.495238  0.007332   \n",
       "2       ENST00000373020       823  0.007456  2.078095   86.904762  0.006193   \n",
       "3       ENST00000373020       830  0.007765  2.834000   86.765000  0.007522   \n",
       "4       ENST00000373020       849  0.006785  2.926667   86.923810  0.007727   \n",
       "...                 ...       ...       ...       ...         ...       ...   \n",
       "121833  ENST00000641784      3122  0.007506  3.685833  109.766667  0.007801   \n",
       "121834  ENST00000641784      3142  0.008712  3.650164  105.637705  0.007614   \n",
       "121835  ENST00000641784      3224  0.008452  3.807667  118.583333  0.008247   \n",
       "121836  ENST00000641784      3243  0.008700  7.686719  122.812500  0.007648   \n",
       "121837  ENST00000641784      3266  0.005972  1.874516   94.209677  0.006831   \n",
       "\n",
       "           std_2      mean_2   dwell_3     std_3     mean_3  label  \n",
       "0       2.496500   97.965000  0.008500  1.588750  92.330000    0.0  \n",
       "1       2.551905   97.928571  0.006917  2.198571  89.385714    0.0  \n",
       "2       1.912857   93.680952  0.007296  2.306667  88.176190    0.0  \n",
       "3       3.192500   93.075000  0.005923  2.020500  80.110000    0.0  \n",
       "4       2.782381   92.504762  0.008596  1.924286  84.657143    0.0  \n",
       "...          ...         ...       ...       ...        ...    ...  \n",
       "121833  6.736167  118.050000  0.006870  2.844667  80.915000    1.0  \n",
       "121834  8.877377  119.721311  0.005795  3.218689  77.859016    0.0  \n",
       "121835  4.507167  124.466667  0.006606  3.443833  91.126667    1.0  \n",
       "121836  2.998125   97.346875  0.005190  2.203750  88.439063    0.0  \n",
       "121837  2.194032   99.730645  0.006503  1.977742  92.453226    0.0  \n",
       "\n",
       "[121838 rows x 16 columns]"
      ]
     },
     "execution_count": 13,
     "metadata": {},
     "output_type": "execute_result"
    }
   ],
   "source": [
    "nuc_enc_mean_data"
   ]
  },
  {
   "cell_type": "markdown",
   "id": "abd406e2",
   "metadata": {
    "id": "abd406e2"
   },
   "source": [
    "#### Remove annoying messages that make it hard to read classification results"
   ]
  },
  {
   "cell_type": "code",
   "execution_count": 5,
   "id": "e67aca32",
   "metadata": {
    "executionInfo": {
     "elapsed": 29,
     "status": "aborted",
     "timestamp": 1665759544401,
     "user": {
      "displayName": "Torrin Panicker",
      "userId": "14746471492993958531"
     },
     "user_tz": -480
    },
    "id": "e67aca32"
   },
   "outputs": [],
   "source": [
    "import warnings\n",
    "warnings.filterwarnings('ignore')\n",
    "warnings.simplefilter('ignore')"
   ]
  },
  {
   "cell_type": "markdown",
   "id": "f894ffd7",
   "metadata": {
    "id": "f894ffd7"
   },
   "source": [
    "### Model Fitting"
   ]
  },
  {
   "cell_type": "code",
   "execution_count": 6,
   "id": "1428434c",
   "metadata": {
    "executionInfo": {
     "elapsed": 29,
     "status": "aborted",
     "timestamp": 1665759544402,
     "user": {
      "displayName": "Torrin Panicker",
      "userId": "14746471492993958531"
     },
     "user_tz": -480
    },
    "id": "1428434c"
   },
   "outputs": [],
   "source": [
    "from xgboost import XGBClassifier\n",
    "from sklearn.model_selection import StratifiedGroupKFold\n",
    "from sklearn.metrics import classification_report\n",
    "from sklearn import preprocessing\n",
    "from imblearn.over_sampling import SMOTE\n",
    "from imblearn.under_sampling import NearMiss"
   ]
  },
  {
   "cell_type": "code",
   "execution_count": 14,
   "id": "6638f350",
   "metadata": {
    "executionInfo": {
     "elapsed": 29,
     "status": "aborted",
     "timestamp": 1665759544402,
     "user": {
      "displayName": "Torrin Panicker",
      "userId": "14746471492993958531"
     },
     "user_tz": -480
    },
    "id": "6638f350"
   },
   "outputs": [
    {
     "data": {
      "text/plain": [
       "array(['ENSG00000000003', 'ENSG00000000003', 'ENSG00000000003', ...,\n",
       "       'ENSG00000284707', 'ENSG00000284707', 'ENSG00000284707'],\n",
       "      dtype=object)"
      ]
     },
     "execution_count": 14,
     "metadata": {},
     "output_type": "execute_result"
    }
   ],
   "source": [
    "groups = nuc_enc_mean_data[\"gene_id\"].values\n",
    "groups"
   ]
  },
  {
   "cell_type": "markdown",
   "id": "3465a171",
   "metadata": {},
   "source": [
    "### No gene_ids present in both train and test splits"
   ]
  },
  {
   "cell_type": "code",
   "execution_count": 16,
   "id": "e4bdcd54",
   "metadata": {
    "executionInfo": {
     "elapsed": 29,
     "status": "aborted",
     "timestamp": 1665759544403,
     "user": {
      "displayName": "Torrin Panicker",
      "userId": "14746471492993958531"
     },
     "user_tz": -480
    },
    "id": "e4bdcd54"
   },
   "outputs": [
    {
     "data": {
      "text/plain": [
       "set()"
      ]
     },
     "execution_count": 16,
     "metadata": {},
     "output_type": "execute_result"
    }
   ],
   "source": [
    "group_kfold = StratifiedGroupKFold(n_splits = 2)\n",
    "train_index, test_index = group_kfold.split(nuc_enc_mean_data, nuc_enc_mean_data[\"label\"], groups)\n",
    "train_data = nuc_enc_mean_data.iloc[(train_index[0]), :]\n",
    "test_data = nuc_enc_mean_data.iloc[(test_index[0]), :]\n",
    "# Check if gene_id in train data appear in test data\n",
    "set(train_data[\"gene_id\"]).intersection(set(test_data[\"gene_id\"]))"
   ]
  },
  {
   "cell_type": "code",
   "execution_count": 41,
   "id": "70e318ae",
   "metadata": {},
   "outputs": [
    {
     "data": {
      "text/plain": [
       "<generator object _BaseKFold.split at 0x0000024B8D2374A0>"
      ]
     },
     "execution_count": 41,
     "metadata": {},
     "output_type": "execute_result"
    }
   ],
   "source": [
    "group_kfold.split(nuc_enc_mean_data, nuc_enc_mean_data[\"label\"], groups)"
   ]
  },
  {
   "cell_type": "code",
   "execution_count": 17,
   "id": "e4243904",
   "metadata": {
    "executionInfo": {
     "elapsed": 30,
     "status": "aborted",
     "timestamp": 1665759544404,
     "user": {
      "displayName": "Torrin Panicker",
      "userId": "14746471492993958531"
     },
     "user_tz": -480
    },
    "id": "e4243904"
   },
   "outputs": [
    {
     "data": {
      "text/html": [
       "<div>\n",
       "<style scoped>\n",
       "    .dataframe tbody tr th:only-of-type {\n",
       "        vertical-align: middle;\n",
       "    }\n",
       "\n",
       "    .dataframe tbody tr th {\n",
       "        vertical-align: top;\n",
       "    }\n",
       "\n",
       "    .dataframe thead th {\n",
       "        text-align: right;\n",
       "    }\n",
       "</style>\n",
       "<table border=\"1\" class=\"dataframe\">\n",
       "  <thead>\n",
       "    <tr style=\"text-align: right;\">\n",
       "      <th></th>\n",
       "      <th></th>\n",
       "      <th></th>\n",
       "      <th>position</th>\n",
       "      <th>dwell_1</th>\n",
       "      <th>std_1</th>\n",
       "      <th>mean_1</th>\n",
       "      <th>dwell_2</th>\n",
       "      <th>std_2</th>\n",
       "      <th>mean_2</th>\n",
       "      <th>dwell_3</th>\n",
       "      <th>std_3</th>\n",
       "      <th>mean_3</th>\n",
       "      <th>label</th>\n",
       "    </tr>\n",
       "    <tr>\n",
       "      <th>nucleotide-1</th>\n",
       "      <th>nucleotide</th>\n",
       "      <th>nucleotide+1</th>\n",
       "      <th></th>\n",
       "      <th></th>\n",
       "      <th></th>\n",
       "      <th></th>\n",
       "      <th></th>\n",
       "      <th></th>\n",
       "      <th></th>\n",
       "      <th></th>\n",
       "      <th></th>\n",
       "      <th></th>\n",
       "      <th></th>\n",
       "    </tr>\n",
       "  </thead>\n",
       "  <tbody>\n",
       "    <tr>\n",
       "      <th rowspan=\"5\" valign=\"top\">0</th>\n",
       "      <th rowspan=\"4\" valign=\"top\">0</th>\n",
       "      <th>0</th>\n",
       "      <td>1453.727550</td>\n",
       "      <td>0.001575</td>\n",
       "      <td>0.251124</td>\n",
       "      <td>1.173489</td>\n",
       "      <td>0.001199</td>\n",
       "      <td>0.302183</td>\n",
       "      <td>0.989249</td>\n",
       "      <td>0.000903</td>\n",
       "      <td>0.401695</td>\n",
       "      <td>1.096978</td>\n",
       "      <td>0.054800</td>\n",
       "    </tr>\n",
       "    <tr>\n",
       "      <th>1</th>\n",
       "      <td>1462.509522</td>\n",
       "      <td>0.001423</td>\n",
       "      <td>0.252997</td>\n",
       "      <td>1.045328</td>\n",
       "      <td>0.001154</td>\n",
       "      <td>0.279776</td>\n",
       "      <td>0.852390</td>\n",
       "      <td>0.000774</td>\n",
       "      <td>0.456409</td>\n",
       "      <td>1.611520</td>\n",
       "      <td>0.000000</td>\n",
       "    </tr>\n",
       "    <tr>\n",
       "      <th>2</th>\n",
       "      <td>1359.961897</td>\n",
       "      <td>0.001592</td>\n",
       "      <td>0.294674</td>\n",
       "      <td>1.226500</td>\n",
       "      <td>0.001309</td>\n",
       "      <td>0.418835</td>\n",
       "      <td>1.060707</td>\n",
       "      <td>0.001102</td>\n",
       "      <td>0.519810</td>\n",
       "      <td>1.551876</td>\n",
       "      <td>0.111657</td>\n",
       "    </tr>\n",
       "    <tr>\n",
       "      <th>3</th>\n",
       "      <td>1337.636828</td>\n",
       "      <td>0.001571</td>\n",
       "      <td>0.261064</td>\n",
       "      <td>1.115230</td>\n",
       "      <td>0.001161</td>\n",
       "      <td>0.377483</td>\n",
       "      <td>1.201159</td>\n",
       "      <td>0.001053</td>\n",
       "      <td>0.405288</td>\n",
       "      <td>1.419399</td>\n",
       "      <td>0.047298</td>\n",
       "    </tr>\n",
       "    <tr>\n",
       "      <th>1</th>\n",
       "      <th>4</th>\n",
       "      <td>1739.165945</td>\n",
       "      <td>0.001631</td>\n",
       "      <td>0.263372</td>\n",
       "      <td>1.047566</td>\n",
       "      <td>0.001293</td>\n",
       "      <td>0.415568</td>\n",
       "      <td>1.482455</td>\n",
       "      <td>0.000897</td>\n",
       "      <td>0.335107</td>\n",
       "      <td>1.453201</td>\n",
       "      <td>0.000000</td>\n",
       "    </tr>\n",
       "    <tr>\n",
       "      <th>...</th>\n",
       "      <th>...</th>\n",
       "      <th>...</th>\n",
       "      <td>...</td>\n",
       "      <td>...</td>\n",
       "      <td>...</td>\n",
       "      <td>...</td>\n",
       "      <td>...</td>\n",
       "      <td>...</td>\n",
       "      <td>...</td>\n",
       "      <td>...</td>\n",
       "      <td>...</td>\n",
       "      <td>...</td>\n",
       "      <td>...</td>\n",
       "    </tr>\n",
       "    <tr>\n",
       "      <th rowspan=\"5\" valign=\"top\">23</th>\n",
       "      <th>16</th>\n",
       "      <th>19</th>\n",
       "      <td>1348.909478</td>\n",
       "      <td>0.001120</td>\n",
       "      <td>0.320394</td>\n",
       "      <td>1.709679</td>\n",
       "      <td>0.001050</td>\n",
       "      <td>0.936450</td>\n",
       "      <td>1.640673</td>\n",
       "      <td>0.000944</td>\n",
       "      <td>0.516186</td>\n",
       "      <td>2.035631</td>\n",
       "      <td>0.109104</td>\n",
       "    </tr>\n",
       "    <tr>\n",
       "      <th rowspan=\"4\" valign=\"top\">17</th>\n",
       "      <th>20</th>\n",
       "      <td>1943.454555</td>\n",
       "      <td>0.001015</td>\n",
       "      <td>0.282902</td>\n",
       "      <td>1.471248</td>\n",
       "      <td>0.001204</td>\n",
       "      <td>0.816033</td>\n",
       "      <td>2.180436</td>\n",
       "      <td>0.001441</td>\n",
       "      <td>0.467991</td>\n",
       "      <td>1.263663</td>\n",
       "      <td>0.087039</td>\n",
       "    </tr>\n",
       "    <tr>\n",
       "      <th>21</th>\n",
       "      <td>1252.709406</td>\n",
       "      <td>0.001004</td>\n",
       "      <td>0.260246</td>\n",
       "      <td>1.533823</td>\n",
       "      <td>0.001249</td>\n",
       "      <td>0.901999</td>\n",
       "      <td>1.717072</td>\n",
       "      <td>0.001188</td>\n",
       "      <td>0.420856</td>\n",
       "      <td>1.754793</td>\n",
       "      <td>0.205391</td>\n",
       "    </tr>\n",
       "    <tr>\n",
       "      <th>22</th>\n",
       "      <td>1665.348912</td>\n",
       "      <td>0.001055</td>\n",
       "      <td>0.283522</td>\n",
       "      <td>1.488231</td>\n",
       "      <td>0.001131</td>\n",
       "      <td>0.976867</td>\n",
       "      <td>1.910611</td>\n",
       "      <td>0.001531</td>\n",
       "      <td>0.437327</td>\n",
       "      <td>1.608047</td>\n",
       "      <td>0.241594</td>\n",
       "    </tr>\n",
       "    <tr>\n",
       "      <th>23</th>\n",
       "      <td>1449.893915</td>\n",
       "      <td>0.001119</td>\n",
       "      <td>0.278915</td>\n",
       "      <td>1.526093</td>\n",
       "      <td>0.001096</td>\n",
       "      <td>0.898726</td>\n",
       "      <td>1.845812</td>\n",
       "      <td>0.001001</td>\n",
       "      <td>0.490809</td>\n",
       "      <td>2.100921</td>\n",
       "      <td>0.209365</td>\n",
       "    </tr>\n",
       "  </tbody>\n",
       "</table>\n",
       "<p>288 rows × 11 columns</p>\n",
       "</div>"
      ],
      "text/plain": [
       "                                         position   dwell_1     std_1  \\\n",
       "nucleotide-1 nucleotide nucleotide+1                                    \n",
       "0            0          0             1453.727550  0.001575  0.251124   \n",
       "                        1             1462.509522  0.001423  0.252997   \n",
       "                        2             1359.961897  0.001592  0.294674   \n",
       "                        3             1337.636828  0.001571  0.261064   \n",
       "             1          4             1739.165945  0.001631  0.263372   \n",
       "...                                           ...       ...       ...   \n",
       "23           16         19            1348.909478  0.001120  0.320394   \n",
       "             17         20            1943.454555  0.001015  0.282902   \n",
       "                        21            1252.709406  0.001004  0.260246   \n",
       "                        22            1665.348912  0.001055  0.283522   \n",
       "                        23            1449.893915  0.001119  0.278915   \n",
       "\n",
       "                                        mean_1   dwell_2     std_2    mean_2  \\\n",
       "nucleotide-1 nucleotide nucleotide+1                                           \n",
       "0            0          0             1.173489  0.001199  0.302183  0.989249   \n",
       "                        1             1.045328  0.001154  0.279776  0.852390   \n",
       "                        2             1.226500  0.001309  0.418835  1.060707   \n",
       "                        3             1.115230  0.001161  0.377483  1.201159   \n",
       "             1          4             1.047566  0.001293  0.415568  1.482455   \n",
       "...                                        ...       ...       ...       ...   \n",
       "23           16         19            1.709679  0.001050  0.936450  1.640673   \n",
       "             17         20            1.471248  0.001204  0.816033  2.180436   \n",
       "                        21            1.533823  0.001249  0.901999  1.717072   \n",
       "                        22            1.488231  0.001131  0.976867  1.910611   \n",
       "                        23            1.526093  0.001096  0.898726  1.845812   \n",
       "\n",
       "                                       dwell_3     std_3    mean_3     label  \n",
       "nucleotide-1 nucleotide nucleotide+1                                          \n",
       "0            0          0             0.000903  0.401695  1.096978  0.054800  \n",
       "                        1             0.000774  0.456409  1.611520  0.000000  \n",
       "                        2             0.001102  0.519810  1.551876  0.111657  \n",
       "                        3             0.001053  0.405288  1.419399  0.047298  \n",
       "             1          4             0.000897  0.335107  1.453201  0.000000  \n",
       "...                                        ...       ...       ...       ...  \n",
       "23           16         19            0.000944  0.516186  2.035631  0.109104  \n",
       "             17         20            0.001441  0.467991  1.263663  0.087039  \n",
       "                        21            0.001188  0.420856  1.754793  0.205391  \n",
       "                        22            0.001531  0.437327  1.608047  0.241594  \n",
       "                        23            0.001001  0.490809  2.100921  0.209365  \n",
       "\n",
       "[288 rows x 11 columns]"
      ]
     },
     "execution_count": 17,
     "metadata": {},
     "output_type": "execute_result"
    }
   ],
   "source": [
    "train_data.groupby([\"nucleotide-1\", \"nucleotide\", \"nucleotide+1\"]).std()"
   ]
  },
  {
   "cell_type": "code",
   "execution_count": 18,
   "id": "f6ccc92b",
   "metadata": {
    "executionInfo": {
     "elapsed": 30,
     "status": "aborted",
     "timestamp": 1665759544405,
     "user": {
      "displayName": "Torrin Panicker",
      "userId": "14746471492993958531"
     },
     "user_tz": -480
    },
    "id": "f6ccc92b"
   },
   "outputs": [],
   "source": [
    "def remove_identification_cols(data, remove_label = True):\n",
    "    \"\"\"\n",
    "    To remove identifier variables gene_id \n",
    "    \n",
    "    remove_label : to remove response varaible, transcript_id, position\n",
    "    \"\"\"\n",
    "    columns_to_remove = [\"gene_id\",\"transcript_id\", \"position\"]\n",
    "    if remove_label:\n",
    "        columns_to_remove.append(\"label\")\n",
    "        \n",
    "    x = data\n",
    "    for column in columns_to_remove:\n",
    "        if column in data.columns:\n",
    "            x = x.drop(columns = column)\n",
    "    return x"
   ]
  },
  {
   "cell_type": "code",
   "execution_count": 19,
   "id": "db5031d3",
   "metadata": {
    "executionInfo": {
     "elapsed": 30,
     "status": "aborted",
     "timestamp": 1665759544406,
     "user": {
      "displayName": "Torrin Panicker",
      "userId": "14746471492993958531"
     },
     "user_tz": -480
    },
    "id": "db5031d3"
   },
   "outputs": [],
   "source": [
    "def prepare_train_test_data(data, row_index):\n",
    "    \"\"\"\n",
    "    Given indices prepared from test splits, prepare x and y values for train/test from initial read data\n",
    "    - removal of columns is performed within this function\n",
    "    \n",
    "    data : dataframe, including label response\n",
    "    row_index : indice(s) of train/test set\n",
    "    \"\"\"\n",
    "    \n",
    "    x = remove_identification_cols(data)\n",
    "    y = data[\"label\"]\n",
    "\n",
    "    return x.iloc[row_index, :], y.iloc[row_index]"
   ]
  },
  {
   "cell_type": "code",
   "execution_count": 27,
   "id": "bd663b70",
   "metadata": {},
   "outputs": [],
   "source": [
    "def resample_smote(df):\n",
    "    \n",
    "    x = df.drop(columns = [\"label\"])\n",
    "    y = df['label']\n",
    "    \n",
    "    oversample = SMOTE()\n",
    "    x_smote, y_smote = oversample.fit_resample(x, y)\n",
    "    smote_df = x_smote.merge(y_smote, left_index=True, right_index=True)\n",
    "    \n",
    "    x = smote_df.drop(columns = [\"label\"])\n",
    "    y = smote_df[[\"label\"]]\n",
    "    \n",
    "    return x, y"
   ]
  },
  {
   "cell_type": "code",
   "execution_count": 31,
   "id": "93c115ca",
   "metadata": {},
   "outputs": [],
   "source": [
    "from sklearn.metrics import average_precision_score, roc_auc_score"
   ]
  },
  {
   "cell_type": "code",
   "execution_count": 127,
   "id": "a1805a14",
   "metadata": {
    "executionInfo": {
     "elapsed": 31,
     "status": "aborted",
     "timestamp": 1665759544407,
     "user": {
      "displayName": "Torrin Panicker",
      "userId": "14746471492993958531"
     },
     "user_tz": -480
    },
    "id": "a1805a14",
    "scrolled": false
   },
   "outputs": [],
   "source": [
    "def run_train_test(data_list, xgb = True, n_splits = 3, clf_report = False):\n",
    "    \"\"\"\n",
    "    Given different data, the specified model will undergo train-test split\n",
    "    and the results summarised with classification report\n",
    "    \n",
    "    data_list : list of datasets\n",
    "    model : classification model to try\n",
    "    nsplits : number of splits for the StratifiedGroupKFold\n",
    "    \n",
    "    output : list of trained models\n",
    "    \"\"\"\n",
    "    # Test on the different types of data\n",
    "    dataset_counter = 0\n",
    "    for data in data_list:\n",
    "        dataset_counter += 1\n",
    "        group_kfold = StratifiedGroupKFold(n_splits = n_splits)\n",
    "\n",
    "        # store models for further use\n",
    "        model_list = list()\n",
    "        \n",
    "        split_counter = 0\n",
    "        print(\"=============================================================================\")\n",
    "        print(f\"===========================The {num_splits} spits for each dataset {dataset_counter} ===========================\")\n",
    "        for train_index, test_index  in group_kfold.split(data, data[\"label\"], groups):\n",
    "            split_counter += 1\n",
    "            print(f\"=========================== Split {split_counter} for dataset {dataset_counter} ===========================\")\n",
    "            # Preparing data\n",
    "            # X_train, y_train = prepare_train_test_data(data, train_index)\n",
    "            X_test, y_test = prepare_train_test_data(data, test_index)\n",
    "            training_data = data.iloc[train_index, :]\n",
    "            x_train_no_identification_cols  = remove_identification_cols(training_data,\n",
    "                                                                        remove_label = False)\n",
    "            # resample only the training set, with only smote\n",
    "            X_train, y_train = resample_smote(x_train_no_identification_cols)\n",
    "\n",
    "            # fitting the logistic regression\n",
    "            if xgb:\n",
    "                clf = XGBClassifier(eval_metric = \"logloss\")  # eval_metric = \"logloss\" if xgb to remove warning msg\n",
    "            else:\n",
    "                clf = LogisticRegression(C=1, penalty='l1', solver='liblinear')\n",
    "            \n",
    "            clf.fit(X_train, y_train)\n",
    "            model_list.append(clf)\n",
    "            \n",
    "            \n",
    "            train_pred = clf.predict_proba(X_train)[:, 1]\n",
    "            test_pred = clf.predict_proba(X_test)[:, 1]\n",
    "            \n",
    "            if clf_report:\n",
    "                train_pred_clf_rep = clf.predict(X_train)\n",
    "                test_pred_clf_rep = clf.predict(X_test)\n",
    "                print(f\"Classification_report (Train)\") \n",
    "                print(classification_report(y_train, train_pred_clf_rep))\n",
    "                print(f\"Classification_report (Test)\")\n",
    "                print(classification_report(y_test, test_pred_clf_rep))\n",
    "                \n",
    "\n",
    "            print(\"===========================Train_scores===========================\")\n",
    "            print(f\"Average_precision_score:\", average_precision_score(y_train, train_pred))\n",
    "            print(f\"roc_auc_score:\", roc_auc_score(y_train, train_pred))\n",
    "\n",
    "            print(\"===========================Test_scores===========================\")\n",
    "            print(f\"Average_precision_score:\", average_precision_score(y_test, test_pred))\n",
    "            print(f\"roc_auc_score:\", roc_auc_score(y_test, test_pred))        \n",
    "        \n",
    "    return model_list"
   ]
  },
  {
   "cell_type": "markdown",
   "id": "99f70033",
   "metadata": {},
   "source": [
    "### Store to variable to store trained models"
   ]
  },
  {
   "cell_type": "code",
   "execution_count": null,
   "id": "88b16bb8",
   "metadata": {},
   "outputs": [],
   "source": [
    "num_splits = 3"
   ]
  },
  {
   "cell_type": "code",
   "execution_count": 120,
   "id": "70077ce1",
   "metadata": {
    "executionInfo": {
     "elapsed": 30,
     "status": "aborted",
     "timestamp": 1665759544409,
     "user": {
      "displayName": "Torrin Panicker",
      "userId": "14746471492993958531"
     },
     "user_tz": -480
    },
    "id": "70077ce1",
    "scrolled": true
   },
   "outputs": [
    {
     "name": "stdout",
     "output_type": "stream",
     "text": [
      "=============================================================================\n",
      "===========================The 3 spits for each dataset 1 ===========================\n",
      "=========================== Split 1 for dataset 1 ===========================\n",
      "Classification_report (Train)\n",
      "              precision    recall  f1-score   support\n",
      "\n",
      "         0.0       0.95      0.91      0.93     77578\n",
      "         1.0       0.92      0.95      0.93     77578\n",
      "\n",
      "    accuracy                           0.93    155156\n",
      "   macro avg       0.93      0.93      0.93    155156\n",
      "weighted avg       0.93      0.93      0.93    155156\n",
      "\n",
      "Classification_report (Test)\n",
      "              precision    recall  f1-score   support\n",
      "\n",
      "         0.0       0.98      0.90      0.94     38785\n",
      "         1.0       0.24      0.69      0.35      1822\n",
      "\n",
      "    accuracy                           0.89     40607\n",
      "   macro avg       0.61      0.79      0.65     40607\n",
      "weighted avg       0.95      0.89      0.91     40607\n",
      "\n",
      "===========================Train_scores===========================\n",
      "Average_precision_score: 0.9727470112284281\n",
      "roc_auc_score: 0.9784438880401214\n",
      "===========================Test_scores===========================\n",
      "Average_precision_score: 0.41471170483298725\n",
      "roc_auc_score: 0.8764984058165233\n",
      "=========================== Split 2 for dataset 1 ===========================\n",
      "Classification_report (Train)\n",
      "              precision    recall  f1-score   support\n",
      "\n",
      "         0.0       0.95      0.92      0.93     77573\n",
      "         1.0       0.92      0.95      0.94     77573\n",
      "\n",
      "    accuracy                           0.94    155146\n",
      "   macro avg       0.94      0.94      0.94    155146\n",
      "weighted avg       0.94      0.94      0.94    155146\n",
      "\n",
      "Classification_report (Test)\n",
      "              precision    recall  f1-score   support\n",
      "\n",
      "         0.0       0.98      0.90      0.94     38790\n",
      "         1.0       0.24      0.67      0.35      1827\n",
      "\n",
      "    accuracy                           0.89     40617\n",
      "   macro avg       0.61      0.78      0.65     40617\n",
      "weighted avg       0.95      0.89      0.91     40617\n",
      "\n",
      "===========================Train_scores===========================\n",
      "Average_precision_score: 0.97353080653646\n",
      "roc_auc_score: 0.9791558030663109\n",
      "===========================Test_scores===========================\n",
      "Average_precision_score: 0.4156759051851964\n",
      "roc_auc_score: 0.8724556729970497\n",
      "=========================== Split 3 for dataset 1 ===========================\n",
      "Classification_report (Train)\n",
      "              precision    recall  f1-score   support\n",
      "\n",
      "         0.0       0.95      0.91      0.93     77575\n",
      "         1.0       0.92      0.95      0.93     77575\n",
      "\n",
      "    accuracy                           0.93    155150\n",
      "   macro avg       0.93      0.93      0.93    155150\n",
      "weighted avg       0.93      0.93      0.93    155150\n",
      "\n",
      "Classification_report (Test)\n",
      "              precision    recall  f1-score   support\n",
      "\n",
      "         0.0       0.98      0.90      0.94     38788\n",
      "         1.0       0.25      0.69      0.37      1826\n",
      "\n",
      "    accuracy                           0.89     40614\n",
      "   macro avg       0.62      0.80      0.65     40614\n",
      "weighted avg       0.95      0.89      0.92     40614\n",
      "\n",
      "===========================Train_scores===========================\n",
      "Average_precision_score: 0.9722143579736665\n",
      "roc_auc_score: 0.9780438987189115\n",
      "===========================Test_scores===========================\n",
      "Average_precision_score: 0.4105896239768458\n",
      "roc_auc_score: 0.873507346532012\n",
      "=============================================================================\n",
      "===========================The 3 spits for each dataset 2 ===========================\n",
      "=========================== Split 1 for dataset 2 ===========================\n",
      "Classification_report (Train)\n",
      "              precision    recall  f1-score   support\n",
      "\n",
      "         0.0       0.97      0.96      0.96     77578\n",
      "         1.0       0.96      0.97      0.96     77578\n",
      "\n",
      "    accuracy                           0.96    155156\n",
      "   macro avg       0.96      0.96      0.96    155156\n",
      "weighted avg       0.96      0.96      0.96    155156\n",
      "\n",
      "Classification_report (Test)\n",
      "              precision    recall  f1-score   support\n",
      "\n",
      "         0.0       0.98      0.95      0.96     38785\n",
      "         1.0       0.32      0.49      0.38      1822\n",
      "\n",
      "    accuracy                           0.93     40607\n",
      "   macro avg       0.65      0.72      0.67     40607\n",
      "weighted avg       0.95      0.93      0.94     40607\n",
      "\n",
      "===========================Train_scores===========================\n",
      "Average_precision_score: 0.9932204770349781\n",
      "roc_auc_score: 0.9933010849762889\n",
      "===========================Test_scores===========================\n",
      "Average_precision_score: 0.3419666329720918\n",
      "roc_auc_score: 0.8477197607854499\n",
      "=========================== Split 2 for dataset 2 ===========================\n",
      "Classification_report (Train)\n",
      "              precision    recall  f1-score   support\n",
      "\n",
      "         0.0       0.97      0.96      0.97     77573\n",
      "         1.0       0.96      0.97      0.97     77573\n",
      "\n",
      "    accuracy                           0.97    155146\n",
      "   macro avg       0.97      0.97      0.97    155146\n",
      "weighted avg       0.97      0.97      0.97    155146\n",
      "\n",
      "Classification_report (Test)\n",
      "              precision    recall  f1-score   support\n",
      "\n",
      "         0.0       0.97      0.95      0.96     38790\n",
      "         1.0       0.32      0.48      0.38      1827\n",
      "\n",
      "    accuracy                           0.93     40617\n",
      "   macro avg       0.65      0.72      0.67     40617\n",
      "weighted avg       0.95      0.93      0.94     40617\n",
      "\n",
      "===========================Train_scores===========================\n",
      "Average_precision_score: 0.9940718107937964\n",
      "roc_auc_score: 0.9940273854670555\n",
      "===========================Test_scores===========================\n",
      "Average_precision_score: 0.3485991609214651\n",
      "roc_auc_score: 0.8452983751927666\n",
      "=========================== Split 3 for dataset 2 ===========================\n",
      "Classification_report (Train)\n",
      "              precision    recall  f1-score   support\n",
      "\n",
      "         0.0       0.97      0.96      0.96     77575\n",
      "         1.0       0.96      0.97      0.96     77575\n",
      "\n",
      "    accuracy                           0.96    155150\n",
      "   macro avg       0.96      0.96      0.96    155150\n",
      "weighted avg       0.96      0.96      0.96    155150\n",
      "\n",
      "Classification_report (Test)\n",
      "              precision    recall  f1-score   support\n",
      "\n",
      "         0.0       0.98      0.95      0.96     38788\n",
      "         1.0       0.32      0.50      0.39      1826\n",
      "\n",
      "    accuracy                           0.93     40614\n",
      "   macro avg       0.65      0.72      0.67     40614\n",
      "weighted avg       0.95      0.93      0.94     40614\n",
      "\n",
      "===========================Train_scores===========================\n",
      "Average_precision_score: 0.992541846380705\n",
      "roc_auc_score: 0.9926655694503743\n",
      "===========================Test_scores===========================\n",
      "Average_precision_score: 0.33604114945662444\n",
      "roc_auc_score: 0.8462556479962807\n"
     ]
    }
   ],
   "source": [
    "clf_list = run_train_test([nuc_enc_mean_data, nuc_enc_median_data], num_splits, clf_report = True)"
   ]
  },
  {
   "cell_type": "markdown",
   "id": "5dc97370",
   "metadata": {},
   "source": [
    "## Using Lasso for Logistic regression Lasso regularization"
   ]
  },
  {
   "cell_type": "code",
   "execution_count": null,
   "id": "3a73ca95",
   "metadata": {},
   "outputs": [],
   "source": [
    "from sklearn.linear_model import LogisticRegression"
   ]
  },
  {
   "cell_type": "code",
   "execution_count": 128,
   "id": "113f89ca",
   "metadata": {
    "scrolled": true
   },
   "outputs": [
    {
     "name": "stdout",
     "output_type": "stream",
     "text": [
      "=============================================================================\n",
      "===========================The 3 spits for each dataset 1 ===========================\n",
      "=========================== Split 1 for dataset 1 ===========================\n",
      "Classification_report (Train)\n",
      "              precision    recall  f1-score   support\n",
      "\n",
      "         0.0       0.73      0.72      0.73     77578\n",
      "         1.0       0.73      0.73      0.73     77578\n",
      "\n",
      "    accuracy                           0.73    155156\n",
      "   macro avg       0.73      0.73      0.73    155156\n",
      "weighted avg       0.73      0.73      0.73    155156\n",
      "\n",
      "Classification_report (Test)\n",
      "              precision    recall  f1-score   support\n",
      "\n",
      "         0.0       0.98      0.71      0.82     38785\n",
      "         1.0       0.11      0.74      0.19      1822\n",
      "\n",
      "    accuracy                           0.71     40607\n",
      "   macro avg       0.55      0.73      0.51     40607\n",
      "weighted avg       0.94      0.71      0.80     40607\n",
      "\n",
      "===========================Train_scores===========================\n",
      "Average_precision_score: 0.8090211971630672\n",
      "roc_auc_score: 0.8080681185698326\n",
      "===========================Test_scores===========================\n",
      "Average_precision_score: 0.26418858965084957\n",
      "roc_auc_score: 0.8112118978403698\n",
      "=========================== Split 2 for dataset 1 ===========================\n",
      "Classification_report (Train)\n",
      "              precision    recall  f1-score   support\n",
      "\n",
      "         0.0       0.74      0.73      0.73     77573\n",
      "         1.0       0.73      0.74      0.73     77573\n",
      "\n",
      "    accuracy                           0.73    155146\n",
      "   macro avg       0.73      0.73      0.73    155146\n",
      "weighted avg       0.73      0.73      0.73    155146\n",
      "\n",
      "Classification_report (Test)\n",
      "              precision    recall  f1-score   support\n",
      "\n",
      "         0.0       0.98      0.73      0.84     38790\n",
      "         1.0       0.11      0.71      0.19      1827\n",
      "\n",
      "    accuracy                           0.73     40617\n",
      "   macro avg       0.55      0.72      0.52     40617\n",
      "weighted avg       0.94      0.73      0.81     40617\n",
      "\n",
      "===========================Train_scores===========================\n",
      "Average_precision_score: 0.8113645750156145\n",
      "roc_auc_score: 0.8133521830917017\n",
      "===========================Test_scores===========================\n",
      "Average_precision_score: 0.24522782740349486\n",
      "roc_auc_score: 0.802046343601668\n",
      "=========================== Split 3 for dataset 1 ===========================\n",
      "Classification_report (Train)\n",
      "              precision    recall  f1-score   support\n",
      "\n",
      "         0.0       0.72      0.72      0.72     77575\n",
      "         1.0       0.72      0.73      0.72     77575\n",
      "\n",
      "    accuracy                           0.72    155150\n",
      "   macro avg       0.72      0.72      0.72    155150\n",
      "weighted avg       0.72      0.72      0.72    155150\n",
      "\n",
      "Classification_report (Test)\n",
      "              precision    recall  f1-score   support\n",
      "\n",
      "         0.0       0.98      0.72      0.83     38788\n",
      "         1.0       0.11      0.75      0.20      1826\n",
      "\n",
      "    accuracy                           0.72     40614\n",
      "   macro avg       0.55      0.74      0.51     40614\n",
      "weighted avg       0.95      0.72      0.80     40614\n",
      "\n",
      "===========================Train_scores===========================\n",
      "Average_precision_score: 0.8051242983788512\n",
      "roc_auc_score: 0.8024168292637077\n",
      "===========================Test_scores===========================\n",
      "Average_precision_score: 0.2542099573711774\n",
      "roc_auc_score: 0.819715600098087\n",
      "=============================================================================\n",
      "===========================The 3 spits for each dataset 2 ===========================\n",
      "=========================== Split 1 for dataset 2 ===========================\n",
      "Classification_report (Train)\n",
      "              precision    recall  f1-score   support\n",
      "\n",
      "         0.0       0.73      0.72      0.73     77578\n",
      "         1.0       0.73      0.74      0.73     77578\n",
      "\n",
      "    accuracy                           0.73    155156\n",
      "   macro avg       0.73      0.73      0.73    155156\n",
      "weighted avg       0.73      0.73      0.73    155156\n",
      "\n",
      "Classification_report (Test)\n",
      "              precision    recall  f1-score   support\n",
      "\n",
      "         0.0       0.98      0.71      0.82     38785\n",
      "         1.0       0.11      0.74      0.19      1822\n",
      "\n",
      "    accuracy                           0.71     40607\n",
      "   macro avg       0.55      0.73      0.51     40607\n",
      "weighted avg       0.94      0.71      0.80     40607\n",
      "\n",
      "===========================Train_scores===========================\n",
      "Average_precision_score: 0.8134534046054371\n",
      "roc_auc_score: 0.8118391124082123\n",
      "===========================Test_scores===========================\n",
      "Average_precision_score: 0.2724075510216566\n",
      "roc_auc_score: 0.8146343934666426\n",
      "=========================== Split 2 for dataset 2 ===========================\n",
      "Classification_report (Train)\n",
      "              precision    recall  f1-score   support\n",
      "\n",
      "         0.0       0.74      0.73      0.73     77573\n",
      "         1.0       0.73      0.74      0.74     77573\n",
      "\n",
      "    accuracy                           0.74    155146\n",
      "   macro avg       0.74      0.74      0.74    155146\n",
      "weighted avg       0.74      0.74      0.74    155146\n",
      "\n",
      "Classification_report (Test)\n",
      "              precision    recall  f1-score   support\n",
      "\n",
      "         0.0       0.98      0.73      0.84     38790\n",
      "         1.0       0.11      0.72      0.19      1827\n",
      "\n",
      "    accuracy                           0.73     40617\n",
      "   macro avg       0.55      0.73      0.52     40617\n",
      "weighted avg       0.94      0.73      0.81     40617\n",
      "\n",
      "===========================Train_scores===========================\n",
      "Average_precision_score: 0.8172282974403758\n",
      "roc_auc_score: 0.8164078967759083\n",
      "===========================Test_scores===========================\n",
      "Average_precision_score: 0.2613122054396002\n",
      "roc_auc_score: 0.8059782278173083\n",
      "=========================== Split 3 for dataset 2 ===========================\n",
      "Classification_report (Train)\n",
      "              precision    recall  f1-score   support\n",
      "\n",
      "         0.0       0.72      0.72      0.72     77575\n",
      "         1.0       0.72      0.73      0.72     77575\n",
      "\n",
      "    accuracy                           0.72    155150\n",
      "   macro avg       0.72      0.72      0.72    155150\n",
      "weighted avg       0.72      0.72      0.72    155150\n",
      "\n",
      "Classification_report (Test)\n",
      "              precision    recall  f1-score   support\n",
      "\n",
      "         0.0       0.98      0.72      0.83     38788\n",
      "         1.0       0.11      0.76      0.20      1826\n",
      "\n",
      "    accuracy                           0.72     40614\n",
      "   macro avg       0.55      0.74      0.52     40614\n",
      "weighted avg       0.95      0.72      0.80     40614\n",
      "\n",
      "===========================Train_scores===========================\n",
      "Average_precision_score: 0.8086730051356603\n",
      "roc_auc_score: 0.805465773924354\n",
      "===========================Test_scores===========================\n",
      "Average_precision_score: 0.264438977412833\n",
      "roc_auc_score: 0.8242393199599565\n"
     ]
    }
   ],
   "source": [
    "clf_list_log_reg = run_train_test([nuc_enc_mean_data, nuc_enc_median_data], xgb = False, n_splits = num_splits, clf_report = True)"
   ]
  },
  {
   "cell_type": "markdown",
   "id": "7583f392",
   "metadata": {},
   "source": [
    "### Inspect Coefficients for lasso regularized logistic regression"
   ]
  },
  {
   "cell_type": "code",
   "execution_count": 148,
   "id": "77f1589c",
   "metadata": {},
   "outputs": [],
   "source": [
    "def get_logreg_coefficients(data, model):\n",
    "    \"\"\"\n",
    "    Pots feature importances given dataset and trained xgboost/tree-based model\n",
    "    \n",
    "    data  : encoded dataset of fixed format\n",
    "    model : trained xgboost/tree-based model\n",
    "    \"\"\"\n",
    "    x_train = prepare_train_test_data(data, 0)[0]\n",
    "    col_names = [\"intercept\"]\n",
    "    col_names.extend(x_train.index.to_list())\n",
    "    \n",
    "    coeffs = list(model.intercept_)\n",
    "    coeffs.extend(list(model.coef_[0]))\n",
    "    \n",
    "    print(x_train.index.to_list(), len(x_train.index.to_list()))\n",
    "    print(coeffs, len(coeffs))\n",
    "    logreg_coefficients = pd.DataFrame({\"col_names\" : col_names, \n",
    "                  \"importance_score\" : coeffs})\n",
    "\n",
    "    logreg_coefficients = logreg_coefficients.sort_values(by = \"importance_score\")\n",
    "    print(logreg_coefficients)\n",
    "    plt.barh(logreg_coefficients[\"col_names\"], logreg_coefficients[\"importance_score\"])"
   ]
  },
  {
   "cell_type": "code",
   "execution_count": 149,
   "id": "a4957760",
   "metadata": {},
   "outputs": [
    {
     "name": "stdout",
     "output_type": "stream",
     "text": [
      "['nucleotide-1', 'nucleotide', 'nucleotide+1', 'dwell_1', 'std_1', 'mean_1', 'dwell_2', 'std_2', 'mean_2', 'dwell_3', 'std_3', 'mean_3'] 12\n",
      "[8.195206029105064, 0.00926789852387023, 0.02857558566796783, 0.2866029433221466, 77.97003203424494, 0.040464573217654794, 0.055325301759350055, -117.86403630850536, -0.4703274059324356, -0.07066006254489338, 107.09193393736001, -0.2722861085452387, -0.09642475369186679] 13\n"
     ]
    },
    {
     "data": {
      "image/png": "[encoded data removed]",
      "text/plain": [
       "<Figure size 432x288 with 1 Axes>"
      ]
     },
     "metadata": {
      "needs_background": "light"
     },
     "output_type": "display_data"
    }
   ],
   "source": [
    "get_logreg_coefficients(nuc_enc_mean_data, clf_list_log_reg[0])"
   ]
  },
  {
   "cell_type": "code",
   "execution_count": 140,
   "id": "020a11cf",
   "metadata": {},
   "outputs": [
    {
     "data": {
      "text/plain": [
       "[8.195206029105064,\n",
       " 0.00926789852387023,\n",
       " 0.02857558566796783,\n",
       " 0.2866029433221466,\n",
       " 77.97003203424494,\n",
       " 0.040464573217654794,\n",
       " 0.055325301759350055,\n",
       " -117.86403630850536,\n",
       " -0.4703274059324356,\n",
       " -0.07066006254489338,\n",
       " 107.09193393736001,\n",
       " -0.2722861085452387,\n",
       " -0.09642475369186679]"
      ]
     },
     "execution_count": 140,
     "metadata": {},
     "output_type": "execute_result"
    }
   ],
   "source": []
  },
  {
   "cell_type": "code",
   "execution_count": 129,
   "id": "b2b32d13",
   "metadata": {},
   "outputs": [
    {
     "name": "stdout",
     "output_type": "stream",
     "text": [
      "[[ 9.26789852e-03  2.85755857e-02  2.86602943e-01  7.79700320e+01\n",
      "   4.04645732e-02  5.53253018e-02 -1.17864036e+02 -4.70327406e-01\n",
      "  -7.06600625e-02  1.07091934e+02 -2.72286109e-01 -9.64247537e-02]] [8.19520603]\n"
     ]
    }
   ],
   "source": [
    "clf = clf_list_log_reg[0]\n",
    "print(clf.coef_, clf.intercept_)"
   ]
  },
  {
   "cell_type": "code",
   "execution_count": 100,
   "id": "1497ff2d",
   "metadata": {
    "executionInfo": {
     "elapsed": 31,
     "status": "aborted",
     "timestamp": 1665759544410,
     "user": {
      "displayName": "Torrin Panicker",
      "userId": "14746471492993958531"
     },
     "user_tz": -480
    },
    "id": "1497ff2d"
   },
   "outputs": [],
   "source": [
    "import matplotlib.pyplot as plt\n",
    "import numpy as np"
   ]
  },
  {
   "cell_type": "code",
   "execution_count": 102,
   "id": "6d0cdc3a",
   "metadata": {
    "executionInfo": {
     "elapsed": 31,
     "status": "aborted",
     "timestamp": 1665759544411,
     "user": {
      "displayName": "Torrin Panicker",
      "userId": "14746471492993958531"
     },
     "user_tz": -480
    },
    "id": "6d0cdc3a"
   },
   "outputs": [
    {
     "data": {
      "text/plain": [
       "['nucleotide-1',\n",
       " 'nucleotide',\n",
       " 'nucleotide+1',\n",
       " 'dwell_1',\n",
       " 'std_1',\n",
       " 'mean_1',\n",
       " 'dwell_2',\n",
       " 'std_2',\n",
       " 'mean_2',\n",
       " 'dwell_3',\n",
       " 'std_3',\n",
       " 'mean_3']"
      ]
     },
     "execution_count": 102,
     "metadata": {},
     "output_type": "execute_result"
    }
   ],
   "source": [
    "prepare_train_test_data(nuc_enc_mean_data, 0)[0].index.to_list()"
   ]
  },
  {
   "cell_type": "code",
   "execution_count": 107,
   "id": "4b169920",
   "metadata": {
    "executionInfo": {
     "elapsed": 32,
     "status": "aborted",
     "timestamp": 1665759544412,
     "user": {
      "displayName": "Torrin Panicker",
      "userId": "14746471492993958531"
     },
     "user_tz": -480
    },
    "id": "4b169920"
   },
   "outputs": [],
   "source": [
    "def plot_feat_importance(data, model):\n",
    "    \"\"\"\n",
    "    Pots feature importances given dataset and trained xgboost/tree-based model\n",
    "    \n",
    "    data  : encoded dataset of fixed format\n",
    "    model : trained xgboost/tree-based model\n",
    "    \"\"\"\n",
    "    x_train = prepare_train_test_data(data, 0)[0]\n",
    "    feat_importance_df = pd.DataFrame({\"col_names\" : x_train.index.to_list(), \n",
    "                  \"importance_score\" : model.feature_importances_})\n",
    "\n",
    "    feat_importance_df = feat_importance_df.sort_values(by = \"importance_score\")\n",
    "\n",
    "    plt.barh(feat_importance_df[\"col_names\"], feat_importance_df[\"importance_score\"])"
   ]
  },
  {
   "cell_type": "code",
   "execution_count": 108,
   "id": "fe1de09f",
   "metadata": {
    "executionInfo": {
     "elapsed": 33,
     "status": "aborted",
     "timestamp": 1665759544414,
     "user": {
      "displayName": "Torrin Panicker",
      "userId": "14746471492993958531"
     },
     "user_tz": -480
    },
    "id": "fe1de09f"
   },
   "outputs": [
    {
     "data": {
      "image/png": "[encoded data removed]",
      "text/plain": [
       "<Figure size 432x288 with 1 Axes>"
      ]
     },
     "metadata": {
      "needs_background": "light"
     },
     "output_type": "display_data"
    }
   ],
   "source": [
    "plot_feat_importance(nuc_enc_mean_data, clf_list[0])"
   ]
  },
  {
   "cell_type": "code",
   "execution_count": null,
   "id": "de11ffd5",
   "metadata": {
    "executionInfo": {
     "elapsed": 34,
     "status": "aborted",
     "timestamp": 1665759544415,
     "user": {
      "displayName": "Torrin Panicker",
      "userId": "14746471492993958531"
     },
     "user_tz": -480
    },
    "id": "de11ffd5"
   },
   "outputs": [],
   "source": []
  },
  {
   "cell_type": "code",
   "execution_count": null,
   "id": "6dc42c3e",
   "metadata": {
    "executionInfo": {
     "elapsed": 35,
     "status": "aborted",
     "timestamp": 1665759544416,
     "user": {
      "displayName": "Torrin Panicker",
      "userId": "14746471492993958531"
     },
     "user_tz": -480
    },
    "id": "6dc42c3e"
   },
   "outputs": [],
   "source": []
  },
  {
   "cell_type": "code",
   "execution_count": null,
   "id": "4276ac48",
   "metadata": {
    "executionInfo": {
     "elapsed": 35,
     "status": "aborted",
     "timestamp": 1665759544417,
     "user": {
      "displayName": "Torrin Panicker",
      "userId": "14746471492993958531"
     },
     "user_tz": -480
    },
    "id": "4276ac48"
   },
   "outputs": [],
   "source": []
  },
  {
   "cell_type": "code",
   "execution_count": null,
   "id": "cd27c5ea",
   "metadata": {
    "executionInfo": {
     "elapsed": 36,
     "status": "aborted",
     "timestamp": 1665759544418,
     "user": {
      "displayName": "Torrin Panicker",
      "userId": "14746471492993958531"
     },
     "user_tz": -480
    },
    "id": "cd27c5ea"
   },
   "outputs": [],
   "source": []
  },
  {
   "cell_type": "code",
   "execution_count": null,
   "id": "2f78a319",
   "metadata": {
    "executionInfo": {
     "elapsed": 36,
     "status": "aborted",
     "timestamp": 1665759544418,
     "user": {
      "displayName": "Torrin Panicker",
      "userId": "14746471492993958531"
     },
     "user_tz": -480
    },
    "id": "2f78a319"
   },
   "outputs": [],
   "source": []
  }
 ],
 "metadata": {
  "colab": {
   "collapsed_sections": [],
   "provenance": []
  },
  "kernelspec": {
   "display_name": "Python 3 (ipykernel)",
   "language": "python",
   "name": "python3"
  },
  "language_info": {
   "codemirror_mode": {
    "name": "ipython",
    "version": 3
   },
   "file_extension": ".py",
   "mimetype": "text/x-python",
   "name": "python",
   "nbconvert_exporter": "python",
   "pygments_lexer": "ipython3",
   "version": "3.8.13"
  }
 },
 "nbformat": 4,
 "nbformat_minor": 5
}
